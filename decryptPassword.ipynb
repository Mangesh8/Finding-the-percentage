{
 "cells": [
  {
   "cell_type": "code",
   "execution_count": 28,
   "metadata": {},
   "outputs": [],
   "source": [
    "def decryptPassword(s):\n",
    "    l = []\n",
    "    nums = []\n",
    "    #write your code here\n",
    "    # Remove * from Password\n",
    "    for i in s:\n",
    "        if i != '*':\n",
    "            l.append(i)\n",
    "    # Get Starting Numbers then reverse them and remove them from 'l' \n",
    "    for i in s:\n",
    "        if i.isdigit():\n",
    "            nums.append(i)\n",
    "            l.remove(i)\n",
    "        else:\n",
    "            nums = nums[::-1]\n",
    "            break\n",
    "    \n",
    "    # Fill Numbers in position of 0\n",
    "    val = 0\n",
    "    for i in range(len(l)):\n",
    "        if l[i] == '0':\n",
    "            l[i] = nums[val]\n",
    "            val = val + 1\n",
    "    \n",
    "    # Swap capital & Small  letters \n",
    "    for i in range(len(l)):\n",
    "        if i < len(l) + 1:\n",
    "            if l[i].isupper() and l[i+1].islower():\n",
    "                a = l[i]\n",
    "                l[i] = l[i+1]\n",
    "                l[i+1] = a\n",
    "    \n",
    "    return ''.join(l)\n",
    "    \n",
    "    \n",
    "    \n",
    "    "
   ]
  },
  {
   "cell_type": "code",
   "execution_count": 29,
   "metadata": {},
   "outputs": [
    {
     "name": "stdout",
     "output_type": "stream",
     "text": [
      "aP1pL5e\n"
     ]
    }
   ],
   "source": [
    "if __name__ == '__main__':\n",
    "    s = '51Pa*0Lp*0e'\n",
    "    #s = input('Enter Password: ') #51Pa*0Lp*0e ans: aP1pL5e\n",
    "    print(decryptPassword(s))"
   ]
  }
 ],
 "metadata": {
  "kernelspec": {
   "display_name": "Python 3",
   "language": "python",
   "name": "python3"
  },
  "language_info": {
   "codemirror_mode": {
    "name": "ipython",
    "version": 3
   },
   "file_extension": ".py",
   "mimetype": "text/x-python",
   "name": "python",
   "nbconvert_exporter": "python",
   "pygments_lexer": "ipython3",
   "version": "3.7.6"
  }
 },
 "nbformat": 4,
 "nbformat_minor": 4
}
